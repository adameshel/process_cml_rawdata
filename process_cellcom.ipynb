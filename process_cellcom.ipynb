{
 "cells": [
  {
   "cell_type": "code",
   "execution_count": 1,
   "id": "f24c5745",
   "metadata": {},
   "outputs": [],
   "source": [
    "%load_ext autoreload\n",
    "%autoreload 2"
   ]
  },
  {
   "cell_type": "code",
   "execution_count": 34,
   "id": "def6b516",
   "metadata": {},
   "outputs": [],
   "source": [
    "import pandas as pd\n",
    "import numpy as np\n",
    "import pyproj\n",
    "from pathlib import Path\n",
    "from os import listdir\n",
    "from os.path import isfile, join\n",
    "import matplotlib.pyplot as plt"
   ]
  },
  {
   "cell_type": "code",
   "execution_count": 3,
   "id": "222349c1",
   "metadata": {},
   "outputs": [],
   "source": [
    "raw_data_path = Path.joinpath(Path.cwd(),'raw')"
   ]
  },
  {
   "cell_type": "code",
   "execution_count": 8,
   "id": "31ebd1f0",
   "metadata": {},
   "outputs": [
    {
     "data": {
      "text/html": [
       "<div>\n",
       "<style scoped>\n",
       "    .dataframe tbody tr th:only-of-type {\n",
       "        vertical-align: middle;\n",
       "    }\n",
       "\n",
       "    .dataframe tbody tr th {\n",
       "        vertical-align: top;\n",
       "    }\n",
       "\n",
       "    .dataframe thead th {\n",
       "        text-align: right;\n",
       "    }\n",
       "</style>\n",
       "<table border=\"1\" class=\"dataframe\">\n",
       "  <thead>\n",
       "    <tr style=\"text-align: right;\">\n",
       "      <th></th>\n",
       "      <th>5099-2</th>\n",
       "      <th>4699</th>\n",
       "      <th>ALMA</th>\n",
       "      <th>Unnamed: 3</th>\n",
       "      <th>19.98</th>\n",
       "      <th>772159</th>\n",
       "      <th>246134</th>\n",
       "      <th>722.9</th>\n",
       "      <th>0</th>\n",
       "      <th>A916</th>\n",
       "      <th>...</th>\n",
       "      <th>-77.1</th>\n",
       "      <th>56</th>\n",
       "      <th>0.00481373</th>\n",
       "      <th>0.00365777</th>\n",
       "      <th>0.0274539</th>\n",
       "      <th>0.02161937</th>\n",
       "      <th>0.00481427</th>\n",
       "      <th>0.00365822</th>\n",
       "      <th>0.02746034</th>\n",
       "      <th>0.02162476</th>\n",
       "    </tr>\n",
       "  </thead>\n",
       "  <tbody>\n",
       "    <tr>\n",
       "      <th>0</th>\n",
       "      <td>9409-0</td>\n",
       "      <td>331</td>\n",
       "      <td>YARKA</td>\n",
       "      <td>NaN</td>\n",
       "      <td>220.16</td>\n",
       "      <td>761737</td>\n",
       "      <td>216659</td>\n",
       "      <td>74.9</td>\n",
       "      <td>0</td>\n",
       "      <td>3b31</td>\n",
       "      <td>...</td>\n",
       "      <td>-81</td>\n",
       "      <td>56</td>\n",
       "      <td>0</td>\n",
       "      <td>0</td>\n",
       "      <td>0</td>\n",
       "      <td>0</td>\n",
       "      <td>0</td>\n",
       "      <td>0</td>\n",
       "      <td>0</td>\n",
       "      <td>0</td>\n",
       "    </tr>\n",
       "    <tr>\n",
       "      <th>1</th>\n",
       "      <td>9406-0</td>\n",
       "      <td>30494</td>\n",
       "      <td>THEATER PALACE KIRYAT MOTZKIN</td>\n",
       "      <td>NaN</td>\n",
       "      <td>345.37</td>\n",
       "      <td>750049</td>\n",
       "      <td>207905</td>\n",
       "      <td>9.0</td>\n",
       "      <td>0</td>\n",
       "      <td>r462</td>\n",
       "      <td>...</td>\n",
       "      <td>-81</td>\n",
       "      <td>56</td>\n",
       "      <td>0</td>\n",
       "      <td>0</td>\n",
       "      <td>0</td>\n",
       "      <td>0</td>\n",
       "      <td>0</td>\n",
       "      <td>0</td>\n",
       "      <td>0</td>\n",
       "      <td>0</td>\n",
       "    </tr>\n",
       "  </tbody>\n",
       "</table>\n",
       "<p>2 rows × 82 columns</p>\n",
       "</div>"
      ],
      "text/plain": [
       "   5099-2   4699                           ALMA  Unnamed: 3   19.98  772159  \\\n",
       "0  9409-0    331                          YARKA         NaN  220.16  761737   \n",
       "1  9406-0  30494  THEATER PALACE KIRYAT MOTZKIN         NaN  345.37  750049   \n",
       "\n",
       "   246134  722.9  0  A916  ...  -77.1  56  0.00481373  0.00365777 0.0274539  \\\n",
       "0  216659   74.9  0  3b31  ...    -81  56           0           0         0   \n",
       "1  207905    9.0  0  r462  ...    -81  56           0           0         0   \n",
       "\n",
       "   0.02161937 0.00481427  0.00365822  0.02746034  0.02162476  \n",
       "0           0          0           0           0           0  \n",
       "1           0          0           0           0           0  \n",
       "\n",
       "[2 rows x 82 columns]"
      ]
     },
     "execution_count": 8,
     "metadata": {},
     "output_type": "execute_result"
    }
   ],
   "source": [
    "aa = pd.read_excel(f'metadata.xls', skiprows=[0])\n",
    "aa"
   ]
  },
  {
   "cell_type": "code",
   "execution_count": 7,
   "id": "db4bb9fb",
   "metadata": {},
   "outputs": [
    {
     "data": {
      "text/plain": [
       "<pandas.io.excel._base.ExcelFile at 0x7ff4c87c4610>"
      ]
     },
     "execution_count": 7,
     "metadata": {},
     "output_type": "execute_result"
    }
   ],
   "source": [
    "aa = pd.ExcelFile(f'metadata.xls')\n",
    "aa"
   ]
  },
  {
   "cell_type": "code",
   "execution_count": 10,
   "id": "45063f13",
   "metadata": {},
   "outputs": [
    {
     "data": {
      "text/plain": [
       "<pandas.io.excel._base.ExcelFile at 0x7fe8a0f93e80>"
      ]
     },
     "execution_count": 10,
     "metadata": {},
     "output_type": "execute_result"
    }
   ],
   "source": [
    "aa.parse()"
   ]
  },
  {
   "cell_type": "code",
   "execution_count": 19,
   "id": "f6241612",
   "metadata": {},
   "outputs": [],
   "source": [
    "def cellcom_ids(site_id):\n",
    "    ''' remove IP numbers from cellcom site_a_id/site_b_id,\n",
    "    and also convert all letters to lower case'''\n",
    "    if type(site_id) == float:\n",
    "        return np.nan\n",
    "    elif len(site_id.strip('.0123456789;')) == 0:\n",
    "        return np.nan\n",
    "    elif '; ' in site_id:\n",
    "        return site_id.split('; ')[1]\n",
    "    else:\n",
    "        return site_id[0:4]\n",
    "        \n",
    "def process_cellcom(xlfile, col_names):\n",
    "    ''' Process metadata for cellcom '''\n",
    "#     xl = pd.ExcelFile(xlfile)\n",
    "\n",
    "#     df = xl.parse('Sheet1', skiprows=1) # skip the first row of the excel file\n",
    "    df = pd.read_excel(xlfile)\n",
    "    #cols = ['LINK_NO', 'STATUS', '', 'TX_FREQ_HIGH_MHZ', 'TX_FREQ_LOW_MHZ', 'POL', 'LENGTH_KM', '', 'SITE1_NAME', 'ID_SITE1', 'EAST1', 'NORTH1', 'HEIGHT_ABOVE_SEA1_M', 'SITE2_NAME', 'ID_SITE2', 'EAST2', 'NORTH2', 'HEIGHT_ABOVE_SEA2_M','']\n",
    "    cols = ['LINK_NO', 'STATUS', 'TX_FREQ_HIGH_MHZ', 'TX_FREQ_LOW_MHZ', 'POL', 'LENGTH_KM', 'SITE1_NAME', 'ID_SITE1', 'EAST1', 'NORTH1', 'HEIGHT_ABOVE_SEA1_M', 'SITE2_NAME', 'ID_SITE2', 'EAST2', 'NORTH2', 'HEIGHT_ABOVE_SEA2_M']\n",
    "    df = df[cols]\n",
    "    df.insert(16,'SLOTS', '')\n",
    "    df.insert(0,'SP', 'cellcom')\n",
    "    df.columns = col_names\n",
    "    \n",
    "    # convert EAST/NORTH to LAT/LON decimal\n",
    "    bng = pyproj.Proj(init='epsg:2039')\n",
    "    wgs84 = pyproj.Proj(init='epsg:4326')\n",
    "    # lon, lat = pyproj.transform(from,to,easting,northing)\n",
    "    df['LON1'],df['LAT1'] = pyproj.transform(bng, wgs84, df['LON1'].values, df['LAT1'].values)\n",
    "    df['LON2'],df['LAT2'] = pyproj.transform(bng, wgs84, df['LON2'].values, df['LAT2'].values)\n",
    "    \n",
    "    # process cellcom ids to fix problems\n",
    "    df['SITE1_ID'] = df['SITE1_ID'].apply(cellcom_ids)\n",
    "    df['SITE2_ID'] = df['SITE2_ID'].apply(cellcom_ids)\n",
    "    \n",
    "    # remove '-X' from cml_id\n",
    "    df['Link_num'] = df['Link_num'].str.partition('-')[0]\n",
    "    return df\n"
   ]
  },
  {
   "cell_type": "code",
   "execution_count": 20,
   "id": "dde81af3",
   "metadata": {},
   "outputs": [
    {
     "name": "stdout",
     "output_type": "stream",
     "text": [
      "Index(['LINK_NO', 'SITE1', 'SITE1_NAME', 'SHTAHIM_SITE1', 'AZIMUTH1', 'NORTH1',\n",
      "       'EAST1', 'HEIGHT_ABOVE_SEA1_M', 'SAU_SITE1', 'ID_SITE1',\n",
      "       'TX_FREQ_HIGH_MHZ', 'ANTENA1', 'ANTENAHEIGHT_1', 'BUILDING_HEIGHT1_M',\n",
      "       'SPLITTER_WAVEGUIDE1', 'SITE2', 'SITE2_NAME', 'SHTAHIM_SITE2',\n",
      "       'AZIMUTH2', 'NORTH2', 'EAST2', 'HEIGHT_ABOVE_SEA2_M', 'SAU_SITE2',\n",
      "       'ID_SITE2', 'TX_FREQ_LOW_MHZ', 'ANTENA2', 'ANTENAHEIGHT_2',\n",
      "       'BUILDING_HEIGHT2_M', 'SPLITTER_WAVEGUIDE2', 'SUPPLIER_NAME',\n",
      "       'BAND_GHZ', 'RADIO_INDEX', 'POL', 'LENGTH_KM', 'PROTECTED',\n",
      "       'CAPACITY_MBPS', 'BW_MHZ', 'AGILE', 'TYPE_APPROVAL',\n",
      "       'MAX_OUTPUT_POWER1_DBM', 'MAX_OUTPUT_POWER2_DBM',\n",
      "       'ACTUAL_TX_POWER1_DBM', 'ACTUAL_TX_POWER2_DBM',\n",
      "       'PLANNED_RSL_DBM(SITE A)', 'PLANNED_RSL_DBM(SITE B)', 'ACTUAL_RSL_DBM',\n",
      "       'PLANNED_FADE_MARGIN1_DB', 'PLANNED_FADE_MARGIN2_DB',\n",
      "       'PLANNED_EFF_FADE_MARGIN1_DB', 'PLANNED_EFF_FADE_MARGIN2_DB', 'SUBNET',\n",
      "       'COW', 'SPACE_DIV Site1', 'SPACE_DIV Site2', 'Div. Ant. Height1 (m)',\n",
      "       'Div. Ant. Height2 (m)', 'Div. Ant. Azimuth1 (ֲ°)',\n",
      "       'Div. Ant. Azimuth2 (ֲ°)', 'Div. Ant. Tilt1 (ֲ°)',\n",
      "       'Div. Ant. Tilt2 (ֲ°)', 'DATE', 'STATUS', 'SYNTHESIZER', 'LINK_NO_MOC',\n",
      "       'INSTALLED_BY', 'GENERAL', 'TN Site 1', 'TN Site 2', 'Tilt Site 1',\n",
      "       'Tilt Site 2', 'ACM', 'BER10e6 Th1(dBm)', 'BER10e6 Th2(dBm)',\n",
      "       'Rain Rate (mm/h)', 'BER10e6 Rain Year1 (Unav. % (Std))',\n",
      "       'BER10e6 Rain Year2 (Unav. % (Std))',\n",
      "       'BER10e6 Rain WM1 (Unav. % (Std))', 'BER10e6 Rain WM2 (Unav. % (Std))',\n",
      "       'BER10e6 Total Perf. Year1 (Unav. % (Std))',\n",
      "       'BER10e6 Total Perf. Year2 (Unav. % (Std))',\n",
      "       'BER10e6 Total Perf. Month1 (Unav. % (Std))',\n",
      "       'BER10e6 Total Perf. Month2 (Unav. % (Std))'],\n",
      "      dtype='object')\n"
     ]
    },
    {
     "name": "stderr",
     "output_type": "stream",
     "text": [
      "/Users/adameshel/opt/anaconda3/envs/process_cml_rawdata_env/lib/python3.8/site-packages/pyproj/crs/crs.py:131: FutureWarning: '+init=<authority>:<code>' syntax is deprecated. '<authority>:<code>' is the preferred initialization method. When making the change, be mindful of axis order changes: https://pyproj4.github.io/pyproj/stable/gotchas.html#axis-order-changes-in-proj-6\n",
      "  in_crs_string = _prepare_from_proj_string(in_crs_string)\n",
      "/Users/adameshel/opt/anaconda3/envs/process_cml_rawdata_env/lib/python3.8/site-packages/pyproj/crs/crs.py:131: FutureWarning: '+init=<authority>:<code>' syntax is deprecated. '<authority>:<code>' is the preferred initialization method. When making the change, be mindful of axis order changes: https://pyproj4.github.io/pyproj/stable/gotchas.html#axis-order-changes-in-proj-6\n",
      "  in_crs_string = _prepare_from_proj_string(in_crs_string)\n",
      "/var/folders/3d/dzs676gd66d1hmjz_1_jptjc0000gn/T/ipykernel_1821/2781794087.py:31: DeprecationWarning: This function is deprecated. See: https://pyproj4.github.io/pyproj/stable/gotchas.html#upgrading-to-pyproj-2-from-pyproj-1\n",
      "  df['LON1'],df['LAT1'] = pyproj.transform(bng, wgs84, df['LON1'].values, df['LAT1'].values)\n",
      "/var/folders/3d/dzs676gd66d1hmjz_1_jptjc0000gn/T/ipykernel_1821/2781794087.py:32: DeprecationWarning: This function is deprecated. See: https://pyproj4.github.io/pyproj/stable/gotchas.html#upgrading-to-pyproj-2-from-pyproj-1\n",
      "  df['LON2'],df['LAT2'] = pyproj.transform(bng, wgs84, df['LON2'].values, df['LAT2'].values)\n",
      "/var/folders/3d/dzs676gd66d1hmjz_1_jptjc0000gn/T/ipykernel_1821/483017894.py:12: FutureWarning: In a future version, `df.iloc[:, i] = newvals` will attempt to set the values inplace instead of always setting a new array. To retain the old behavior, use either `df[df.columns[i]] = newvals` or, if columns are non-unique, `df.isetitem(i, newvals)`\n",
      "  MD.loc[:,'Frequency1'] = pd.to_numeric(MD.loc[:,'Frequency1'], errors='coerce')*1e9/1000 # convert MHz to GHz\n",
      "/var/folders/3d/dzs676gd66d1hmjz_1_jptjc0000gn/T/ipykernel_1821/483017894.py:13: FutureWarning: In a future version, `df.iloc[:, i] = newvals` will attempt to set the values inplace instead of always setting a new array. To retain the old behavior, use either `df[df.columns[i]] = newvals` or, if columns are non-unique, `df.isetitem(i, newvals)`\n",
      "  MD.loc[:,'Frequency2'] = pd.to_numeric(MD.loc[:,'Frequency2'], errors='coerce')*1e9/1000\n"
     ]
    }
   ],
   "source": [
    "# process all the metadata \n",
    "col_names = ['SP', 'Link_num', 'Status', 'Frequency1', \n",
    "             'Frequency2', 'Polarization', 'Length_KM', \n",
    "             'SITE1_Name', 'SITE1_ID', 'LON1', 'LAT1', \n",
    "             'Height_above_sea1', 'SITE2_Name', 'SITE2_ID', \n",
    "             'LON2', 'LAT2', 'Height_above_sea2','SLOTS']\n",
    "MD = process_cellcom(f'metadata.xls', col_names)\n",
    "\n",
    "# convert object to numeric values with additional processing\n",
    "#MD.loc[:,'Link_num'] = pd.to_string(MD.loc[:,'Link_num'], errors='coerce')\n",
    "\n",
    "MD.loc[:,'Frequency1'] = pd.to_numeric(MD.loc[:,'Frequency1'], errors='coerce')*1e9/1000 # convert MHz to GHz\n",
    "MD.loc[:,'Frequency2'] = pd.to_numeric(MD.loc[:,'Frequency2'], errors='coerce')*1e9/1000  \n",
    "\n",
    "MD.loc[:,'LAT1'] = pd.to_numeric(MD.loc[:,'LAT1'], errors='coerce')\n",
    "MD.loc[:,'LON1'] = pd.to_numeric(MD.loc[:,'LON1'], errors='coerce')\n",
    "MD.loc[:,'LAT2'] = pd.to_numeric(MD.loc[:,'LAT2'], errors='coerce')\n",
    "MD.loc[:,'LON2'] = pd.to_numeric(MD.loc[:,'LON2'], errors='coerce')\n",
    "MD.loc[:,'Length_KM'] = pd.to_numeric(MD.loc[:,'Length_KM'], errors='coerce')\n",
    "\n",
    "MD.loc[:,'Height_above_sea1'] = pd.to_numeric(MD.loc[:,'Height_above_sea1'], errors='coerce')\n",
    "MD.loc[:,'Height_above_sea2'] = pd.to_numeric(MD.loc[:,'Height_above_sea2'], errors='coerce')"
   ]
  },
  {
   "cell_type": "code",
   "execution_count": 30,
   "id": "2d4fdb42",
   "metadata": {},
   "outputs": [],
   "source": [
    "# select raw-data files to open\n",
    "only_files = sorted([f for f in listdir(raw_data_path) if isfile(join(raw_data_path, f))])\n",
    "# only_files = ['cellcom/SOEM-M_HC_RADIO_SINK_20150121_001500.txt',\n",
    "#              'cellcom/SOEM-M_HC_RADIO_SOURCE_20150121_001500.txt'] "
   ]
  },
  {
   "cell_type": "code",
   "execution_count": 91,
   "id": "2624cea7",
   "metadata": {},
   "outputs": [
    {
     "ename": "FileNotFoundError",
     "evalue": "[Errno 2] No such file or directory: '/Users/adameshel/Documents/Python_scripts/process_cml_rawdata/raw/SOEM-M_HC_RADIO_SINK_20131201_001500.txt'",
     "output_type": "error",
     "traceback": [
      "\u001b[0;31m---------------------------------------------------------------------------\u001b[0m",
      "\u001b[0;31mFileNotFoundError\u001b[0m                         Traceback (most recent call last)",
      "Cell \u001b[0;32mIn[91], line 18\u001b[0m\n\u001b[1;32m     16\u001b[0m \u001b[38;5;28;01mfor\u001b[39;00m rdfile \u001b[38;5;129;01min\u001b[39;00m only_files[\u001b[38;5;241m0\u001b[39m:\u001b[38;5;241m1\u001b[39m]:\n\u001b[1;32m     17\u001b[0m     rdfile \u001b[38;5;241m=\u001b[39m \u001b[38;5;28mstr\u001b[39m(raw_data_path\u001b[38;5;241m.\u001b[39mjoinpath(rdfile))\n\u001b[0;32m---> 18\u001b[0m     RD \u001b[38;5;241m=\u001b[39m \u001b[43mpd\u001b[49m\u001b[38;5;241;43m.\u001b[39;49m\u001b[43mread_csv\u001b[49m\u001b[43m(\u001b[49m\u001b[43mrdfile\u001b[49m\u001b[43m,\u001b[49m\u001b[43m  \u001b[49m\u001b[43mindex_col\u001b[49m\u001b[43m \u001b[49m\u001b[38;5;241;43m=\u001b[39;49m\u001b[43m \u001b[49m\u001b[38;5;28;43;01mFalse\u001b[39;49;00m\u001b[43m)\u001b[49m\n\u001b[1;32m     19\u001b[0m     RD\u001b[38;5;241m.\u001b[39minsert(\u001b[38;5;241m6\u001b[39m,\u001b[38;5;124m'\u001b[39m\u001b[38;5;124mSite\u001b[39m\u001b[38;5;124m'\u001b[39m, \u001b[38;5;124m'\u001b[39m\u001b[38;5;124m'\u001b[39m)\n\u001b[1;32m     20\u001b[0m     RD[\u001b[38;5;124m'\u001b[39m\u001b[38;5;124mSite\u001b[39m\u001b[38;5;124m'\u001b[39m] \u001b[38;5;241m=\u001b[39m RD[\u001b[38;5;124m'\u001b[39m\u001b[38;5;124mNeAlias\u001b[39m\u001b[38;5;124m'\u001b[39m]\u001b[38;5;241m.\u001b[39mstr\u001b[38;5;241m.\u001b[39mpartition(\u001b[38;5;124m'\u001b[39m\u001b[38;5;124m_\u001b[39m\u001b[38;5;124m'\u001b[39m)[\u001b[38;5;241m0\u001b[39m]\n",
      "File \u001b[0;32m~/opt/anaconda3/envs/process_cml_rawdata_env/lib/python3.8/site-packages/pandas/util/_decorators.py:211\u001b[0m, in \u001b[0;36mdeprecate_kwarg.<locals>._deprecate_kwarg.<locals>.wrapper\u001b[0;34m(*args, **kwargs)\u001b[0m\n\u001b[1;32m    209\u001b[0m     \u001b[38;5;28;01melse\u001b[39;00m:\n\u001b[1;32m    210\u001b[0m         kwargs[new_arg_name] \u001b[38;5;241m=\u001b[39m new_arg_value\n\u001b[0;32m--> 211\u001b[0m \u001b[38;5;28;01mreturn\u001b[39;00m \u001b[43mfunc\u001b[49m\u001b[43m(\u001b[49m\u001b[38;5;241;43m*\u001b[39;49m\u001b[43margs\u001b[49m\u001b[43m,\u001b[49m\u001b[43m \u001b[49m\u001b[38;5;241;43m*\u001b[39;49m\u001b[38;5;241;43m*\u001b[39;49m\u001b[43mkwargs\u001b[49m\u001b[43m)\u001b[49m\n",
      "File \u001b[0;32m~/opt/anaconda3/envs/process_cml_rawdata_env/lib/python3.8/site-packages/pandas/util/_decorators.py:331\u001b[0m, in \u001b[0;36mdeprecate_nonkeyword_arguments.<locals>.decorate.<locals>.wrapper\u001b[0;34m(*args, **kwargs)\u001b[0m\n\u001b[1;32m    325\u001b[0m \u001b[38;5;28;01mif\u001b[39;00m \u001b[38;5;28mlen\u001b[39m(args) \u001b[38;5;241m>\u001b[39m num_allow_args:\n\u001b[1;32m    326\u001b[0m     warnings\u001b[38;5;241m.\u001b[39mwarn(\n\u001b[1;32m    327\u001b[0m         msg\u001b[38;5;241m.\u001b[39mformat(arguments\u001b[38;5;241m=\u001b[39m_format_argument_list(allow_args)),\n\u001b[1;32m    328\u001b[0m         \u001b[38;5;167;01mFutureWarning\u001b[39;00m,\n\u001b[1;32m    329\u001b[0m         stacklevel\u001b[38;5;241m=\u001b[39mfind_stack_level(),\n\u001b[1;32m    330\u001b[0m     )\n\u001b[0;32m--> 331\u001b[0m \u001b[38;5;28;01mreturn\u001b[39;00m \u001b[43mfunc\u001b[49m\u001b[43m(\u001b[49m\u001b[38;5;241;43m*\u001b[39;49m\u001b[43margs\u001b[49m\u001b[43m,\u001b[49m\u001b[43m \u001b[49m\u001b[38;5;241;43m*\u001b[39;49m\u001b[38;5;241;43m*\u001b[39;49m\u001b[43mkwargs\u001b[49m\u001b[43m)\u001b[49m\n",
      "File \u001b[0;32m~/opt/anaconda3/envs/process_cml_rawdata_env/lib/python3.8/site-packages/pandas/io/parsers/readers.py:950\u001b[0m, in \u001b[0;36mread_csv\u001b[0;34m(filepath_or_buffer, sep, delimiter, header, names, index_col, usecols, squeeze, prefix, mangle_dupe_cols, dtype, engine, converters, true_values, false_values, skipinitialspace, skiprows, skipfooter, nrows, na_values, keep_default_na, na_filter, verbose, skip_blank_lines, parse_dates, infer_datetime_format, keep_date_col, date_parser, dayfirst, cache_dates, iterator, chunksize, compression, thousands, decimal, lineterminator, quotechar, quoting, doublequote, escapechar, comment, encoding, encoding_errors, dialect, error_bad_lines, warn_bad_lines, on_bad_lines, delim_whitespace, low_memory, memory_map, float_precision, storage_options)\u001b[0m\n\u001b[1;32m    935\u001b[0m kwds_defaults \u001b[38;5;241m=\u001b[39m _refine_defaults_read(\n\u001b[1;32m    936\u001b[0m     dialect,\n\u001b[1;32m    937\u001b[0m     delimiter,\n\u001b[0;32m   (...)\u001b[0m\n\u001b[1;32m    946\u001b[0m     defaults\u001b[38;5;241m=\u001b[39m{\u001b[38;5;124m\"\u001b[39m\u001b[38;5;124mdelimiter\u001b[39m\u001b[38;5;124m\"\u001b[39m: \u001b[38;5;124m\"\u001b[39m\u001b[38;5;124m,\u001b[39m\u001b[38;5;124m\"\u001b[39m},\n\u001b[1;32m    947\u001b[0m )\n\u001b[1;32m    948\u001b[0m kwds\u001b[38;5;241m.\u001b[39mupdate(kwds_defaults)\n\u001b[0;32m--> 950\u001b[0m \u001b[38;5;28;01mreturn\u001b[39;00m \u001b[43m_read\u001b[49m\u001b[43m(\u001b[49m\u001b[43mfilepath_or_buffer\u001b[49m\u001b[43m,\u001b[49m\u001b[43m \u001b[49m\u001b[43mkwds\u001b[49m\u001b[43m)\u001b[49m\n",
      "File \u001b[0;32m~/opt/anaconda3/envs/process_cml_rawdata_env/lib/python3.8/site-packages/pandas/io/parsers/readers.py:605\u001b[0m, in \u001b[0;36m_read\u001b[0;34m(filepath_or_buffer, kwds)\u001b[0m\n\u001b[1;32m    602\u001b[0m _validate_names(kwds\u001b[38;5;241m.\u001b[39mget(\u001b[38;5;124m\"\u001b[39m\u001b[38;5;124mnames\u001b[39m\u001b[38;5;124m\"\u001b[39m, \u001b[38;5;28;01mNone\u001b[39;00m))\n\u001b[1;32m    604\u001b[0m \u001b[38;5;66;03m# Create the parser.\u001b[39;00m\n\u001b[0;32m--> 605\u001b[0m parser \u001b[38;5;241m=\u001b[39m \u001b[43mTextFileReader\u001b[49m\u001b[43m(\u001b[49m\u001b[43mfilepath_or_buffer\u001b[49m\u001b[43m,\u001b[49m\u001b[43m \u001b[49m\u001b[38;5;241;43m*\u001b[39;49m\u001b[38;5;241;43m*\u001b[39;49m\u001b[43mkwds\u001b[49m\u001b[43m)\u001b[49m\n\u001b[1;32m    607\u001b[0m \u001b[38;5;28;01mif\u001b[39;00m chunksize \u001b[38;5;129;01mor\u001b[39;00m iterator:\n\u001b[1;32m    608\u001b[0m     \u001b[38;5;28;01mreturn\u001b[39;00m parser\n",
      "File \u001b[0;32m~/opt/anaconda3/envs/process_cml_rawdata_env/lib/python3.8/site-packages/pandas/io/parsers/readers.py:1442\u001b[0m, in \u001b[0;36mTextFileReader.__init__\u001b[0;34m(self, f, engine, **kwds)\u001b[0m\n\u001b[1;32m   1439\u001b[0m     \u001b[38;5;28mself\u001b[39m\u001b[38;5;241m.\u001b[39moptions[\u001b[38;5;124m\"\u001b[39m\u001b[38;5;124mhas_index_names\u001b[39m\u001b[38;5;124m\"\u001b[39m] \u001b[38;5;241m=\u001b[39m kwds[\u001b[38;5;124m\"\u001b[39m\u001b[38;5;124mhas_index_names\u001b[39m\u001b[38;5;124m\"\u001b[39m]\n\u001b[1;32m   1441\u001b[0m \u001b[38;5;28mself\u001b[39m\u001b[38;5;241m.\u001b[39mhandles: IOHandles \u001b[38;5;241m|\u001b[39m \u001b[38;5;28;01mNone\u001b[39;00m \u001b[38;5;241m=\u001b[39m \u001b[38;5;28;01mNone\u001b[39;00m\n\u001b[0;32m-> 1442\u001b[0m \u001b[38;5;28mself\u001b[39m\u001b[38;5;241m.\u001b[39m_engine \u001b[38;5;241m=\u001b[39m \u001b[38;5;28;43mself\u001b[39;49m\u001b[38;5;241;43m.\u001b[39;49m\u001b[43m_make_engine\u001b[49m\u001b[43m(\u001b[49m\u001b[43mf\u001b[49m\u001b[43m,\u001b[49m\u001b[43m \u001b[49m\u001b[38;5;28;43mself\u001b[39;49m\u001b[38;5;241;43m.\u001b[39;49m\u001b[43mengine\u001b[49m\u001b[43m)\u001b[49m\n",
      "File \u001b[0;32m~/opt/anaconda3/envs/process_cml_rawdata_env/lib/python3.8/site-packages/pandas/io/parsers/readers.py:1735\u001b[0m, in \u001b[0;36mTextFileReader._make_engine\u001b[0;34m(self, f, engine)\u001b[0m\n\u001b[1;32m   1733\u001b[0m     \u001b[38;5;28;01mif\u001b[39;00m \u001b[38;5;124m\"\u001b[39m\u001b[38;5;124mb\u001b[39m\u001b[38;5;124m\"\u001b[39m \u001b[38;5;129;01mnot\u001b[39;00m \u001b[38;5;129;01min\u001b[39;00m mode:\n\u001b[1;32m   1734\u001b[0m         mode \u001b[38;5;241m+\u001b[39m\u001b[38;5;241m=\u001b[39m \u001b[38;5;124m\"\u001b[39m\u001b[38;5;124mb\u001b[39m\u001b[38;5;124m\"\u001b[39m\n\u001b[0;32m-> 1735\u001b[0m \u001b[38;5;28mself\u001b[39m\u001b[38;5;241m.\u001b[39mhandles \u001b[38;5;241m=\u001b[39m \u001b[43mget_handle\u001b[49m\u001b[43m(\u001b[49m\n\u001b[1;32m   1736\u001b[0m \u001b[43m    \u001b[49m\u001b[43mf\u001b[49m\u001b[43m,\u001b[49m\n\u001b[1;32m   1737\u001b[0m \u001b[43m    \u001b[49m\u001b[43mmode\u001b[49m\u001b[43m,\u001b[49m\n\u001b[1;32m   1738\u001b[0m \u001b[43m    \u001b[49m\u001b[43mencoding\u001b[49m\u001b[38;5;241;43m=\u001b[39;49m\u001b[38;5;28;43mself\u001b[39;49m\u001b[38;5;241;43m.\u001b[39;49m\u001b[43moptions\u001b[49m\u001b[38;5;241;43m.\u001b[39;49m\u001b[43mget\u001b[49m\u001b[43m(\u001b[49m\u001b[38;5;124;43m\"\u001b[39;49m\u001b[38;5;124;43mencoding\u001b[39;49m\u001b[38;5;124;43m\"\u001b[39;49m\u001b[43m,\u001b[49m\u001b[43m \u001b[49m\u001b[38;5;28;43;01mNone\u001b[39;49;00m\u001b[43m)\u001b[49m\u001b[43m,\u001b[49m\n\u001b[1;32m   1739\u001b[0m \u001b[43m    \u001b[49m\u001b[43mcompression\u001b[49m\u001b[38;5;241;43m=\u001b[39;49m\u001b[38;5;28;43mself\u001b[39;49m\u001b[38;5;241;43m.\u001b[39;49m\u001b[43moptions\u001b[49m\u001b[38;5;241;43m.\u001b[39;49m\u001b[43mget\u001b[49m\u001b[43m(\u001b[49m\u001b[38;5;124;43m\"\u001b[39;49m\u001b[38;5;124;43mcompression\u001b[39;49m\u001b[38;5;124;43m\"\u001b[39;49m\u001b[43m,\u001b[49m\u001b[43m \u001b[49m\u001b[38;5;28;43;01mNone\u001b[39;49;00m\u001b[43m)\u001b[49m\u001b[43m,\u001b[49m\n\u001b[1;32m   1740\u001b[0m \u001b[43m    \u001b[49m\u001b[43mmemory_map\u001b[49m\u001b[38;5;241;43m=\u001b[39;49m\u001b[38;5;28;43mself\u001b[39;49m\u001b[38;5;241;43m.\u001b[39;49m\u001b[43moptions\u001b[49m\u001b[38;5;241;43m.\u001b[39;49m\u001b[43mget\u001b[49m\u001b[43m(\u001b[49m\u001b[38;5;124;43m\"\u001b[39;49m\u001b[38;5;124;43mmemory_map\u001b[39;49m\u001b[38;5;124;43m\"\u001b[39;49m\u001b[43m,\u001b[49m\u001b[43m \u001b[49m\u001b[38;5;28;43;01mFalse\u001b[39;49;00m\u001b[43m)\u001b[49m\u001b[43m,\u001b[49m\n\u001b[1;32m   1741\u001b[0m \u001b[43m    \u001b[49m\u001b[43mis_text\u001b[49m\u001b[38;5;241;43m=\u001b[39;49m\u001b[43mis_text\u001b[49m\u001b[43m,\u001b[49m\n\u001b[1;32m   1742\u001b[0m \u001b[43m    \u001b[49m\u001b[43merrors\u001b[49m\u001b[38;5;241;43m=\u001b[39;49m\u001b[38;5;28;43mself\u001b[39;49m\u001b[38;5;241;43m.\u001b[39;49m\u001b[43moptions\u001b[49m\u001b[38;5;241;43m.\u001b[39;49m\u001b[43mget\u001b[49m\u001b[43m(\u001b[49m\u001b[38;5;124;43m\"\u001b[39;49m\u001b[38;5;124;43mencoding_errors\u001b[39;49m\u001b[38;5;124;43m\"\u001b[39;49m\u001b[43m,\u001b[49m\u001b[43m \u001b[49m\u001b[38;5;124;43m\"\u001b[39;49m\u001b[38;5;124;43mstrict\u001b[39;49m\u001b[38;5;124;43m\"\u001b[39;49m\u001b[43m)\u001b[49m\u001b[43m,\u001b[49m\n\u001b[1;32m   1743\u001b[0m \u001b[43m    \u001b[49m\u001b[43mstorage_options\u001b[49m\u001b[38;5;241;43m=\u001b[39;49m\u001b[38;5;28;43mself\u001b[39;49m\u001b[38;5;241;43m.\u001b[39;49m\u001b[43moptions\u001b[49m\u001b[38;5;241;43m.\u001b[39;49m\u001b[43mget\u001b[49m\u001b[43m(\u001b[49m\u001b[38;5;124;43m\"\u001b[39;49m\u001b[38;5;124;43mstorage_options\u001b[39;49m\u001b[38;5;124;43m\"\u001b[39;49m\u001b[43m,\u001b[49m\u001b[43m \u001b[49m\u001b[38;5;28;43;01mNone\u001b[39;49;00m\u001b[43m)\u001b[49m\u001b[43m,\u001b[49m\n\u001b[1;32m   1744\u001b[0m \u001b[43m\u001b[49m\u001b[43m)\u001b[49m\n\u001b[1;32m   1745\u001b[0m \u001b[38;5;28;01massert\u001b[39;00m \u001b[38;5;28mself\u001b[39m\u001b[38;5;241m.\u001b[39mhandles \u001b[38;5;129;01mis\u001b[39;00m \u001b[38;5;129;01mnot\u001b[39;00m \u001b[38;5;28;01mNone\u001b[39;00m\n\u001b[1;32m   1746\u001b[0m f \u001b[38;5;241m=\u001b[39m \u001b[38;5;28mself\u001b[39m\u001b[38;5;241m.\u001b[39mhandles\u001b[38;5;241m.\u001b[39mhandle\n",
      "File \u001b[0;32m~/opt/anaconda3/envs/process_cml_rawdata_env/lib/python3.8/site-packages/pandas/io/common.py:856\u001b[0m, in \u001b[0;36mget_handle\u001b[0;34m(path_or_buf, mode, encoding, compression, memory_map, is_text, errors, storage_options)\u001b[0m\n\u001b[1;32m    851\u001b[0m \u001b[38;5;28;01melif\u001b[39;00m \u001b[38;5;28misinstance\u001b[39m(handle, \u001b[38;5;28mstr\u001b[39m):\n\u001b[1;32m    852\u001b[0m     \u001b[38;5;66;03m# Check whether the filename is to be opened in binary mode.\u001b[39;00m\n\u001b[1;32m    853\u001b[0m     \u001b[38;5;66;03m# Binary mode does not support 'encoding' and 'newline'.\u001b[39;00m\n\u001b[1;32m    854\u001b[0m     \u001b[38;5;28;01mif\u001b[39;00m ioargs\u001b[38;5;241m.\u001b[39mencoding \u001b[38;5;129;01mand\u001b[39;00m \u001b[38;5;124m\"\u001b[39m\u001b[38;5;124mb\u001b[39m\u001b[38;5;124m\"\u001b[39m \u001b[38;5;129;01mnot\u001b[39;00m \u001b[38;5;129;01min\u001b[39;00m ioargs\u001b[38;5;241m.\u001b[39mmode:\n\u001b[1;32m    855\u001b[0m         \u001b[38;5;66;03m# Encoding\u001b[39;00m\n\u001b[0;32m--> 856\u001b[0m         handle \u001b[38;5;241m=\u001b[39m \u001b[38;5;28;43mopen\u001b[39;49m\u001b[43m(\u001b[49m\n\u001b[1;32m    857\u001b[0m \u001b[43m            \u001b[49m\u001b[43mhandle\u001b[49m\u001b[43m,\u001b[49m\n\u001b[1;32m    858\u001b[0m \u001b[43m            \u001b[49m\u001b[43mioargs\u001b[49m\u001b[38;5;241;43m.\u001b[39;49m\u001b[43mmode\u001b[49m\u001b[43m,\u001b[49m\n\u001b[1;32m    859\u001b[0m \u001b[43m            \u001b[49m\u001b[43mencoding\u001b[49m\u001b[38;5;241;43m=\u001b[39;49m\u001b[43mioargs\u001b[49m\u001b[38;5;241;43m.\u001b[39;49m\u001b[43mencoding\u001b[49m\u001b[43m,\u001b[49m\n\u001b[1;32m    860\u001b[0m \u001b[43m            \u001b[49m\u001b[43merrors\u001b[49m\u001b[38;5;241;43m=\u001b[39;49m\u001b[43merrors\u001b[49m\u001b[43m,\u001b[49m\n\u001b[1;32m    861\u001b[0m \u001b[43m            \u001b[49m\u001b[43mnewline\u001b[49m\u001b[38;5;241;43m=\u001b[39;49m\u001b[38;5;124;43m\"\u001b[39;49m\u001b[38;5;124;43m\"\u001b[39;49m\u001b[43m,\u001b[49m\n\u001b[1;32m    862\u001b[0m \u001b[43m        \u001b[49m\u001b[43m)\u001b[49m\n\u001b[1;32m    863\u001b[0m     \u001b[38;5;28;01melse\u001b[39;00m:\n\u001b[1;32m    864\u001b[0m         \u001b[38;5;66;03m# Binary mode\u001b[39;00m\n\u001b[1;32m    865\u001b[0m         handle \u001b[38;5;241m=\u001b[39m \u001b[38;5;28mopen\u001b[39m(handle, ioargs\u001b[38;5;241m.\u001b[39mmode)\n",
      "\u001b[0;31mFileNotFoundError\u001b[0m: [Errno 2] No such file or directory: '/Users/adameshel/Documents/Python_scripts/process_cml_rawdata/raw/SOEM-M_HC_RADIO_SINK_20131201_001500.txt'"
     ]
    }
   ],
   "source": [
    "# select specific links (by link number from cellcom meta-data file)\n",
    "sel_links = ['5099','9409','9406']\n",
    "\n",
    "to_process = MD.loc[MD['Link_num'].isin(sel_links)] # take only metadata for links in sel_links\n",
    "\n",
    "sel_links = [i.split('-', 1)[0] for i in sel_links] # take only number before the '-' in each link number\n",
    "    \n",
    "# find raw-data for the links\n",
    "RD_rx = [] # gather all RADIO_SINK\n",
    "RD_tx = [] # gather all RADIO_SOURCE\n",
    "\n",
    "for rdfile in only_files[0:1]:\n",
    "    rdfile = str(raw_data_path.joinpath(rdfile))\n",
    "    RD = pd.read_csv(rdfile,  index_col = False)\n",
    "    RD.insert(6,'Site', '')\n",
    "    RD['Site'] = RD['NeAlias'].str.partition('_')[0]\n",
    "    RD['Site'] = RD['Site'].str.lower()\n",
    "    RD['NeAlias'] = RD['NeAlias'].str.rpartition('_')[2]\n",
    "    RD['NeAlias'] = RD['NeAlias'].str.rpartition('.')[0]\n",
    "    \n",
    "    # find specific links in the file\n",
    "    RD = RD.loc[RD['NeAlias'].isin(sel_links)]\n",
    "    \n",
    "    # separate to RX and TX\n",
    "    if str.find(rdfile, 'RADIO_SINK') != -1:\n",
    "        RD = RD[['Time','Interval','Site','NeAlias','PowerRLTMmin','PowerRLTMmax']]\n",
    "        RD_rx.append(RD)\n",
    "        \n",
    "    elif str.find(rdfile, 'RADIO_SOURCE') != -1:\n",
    "        RD = RD[['Time','Interval','Site','NeAlias','PowerTLTMmin','PowerTLTMmax']]\n",
    "        RD_tx.append(RD)\n",
    "\n",
    "RD_rx = pd.concat(RD_rx) # the min/max RSL\n",
    "RD_tx = pd.concat(RD_tx) # the min/max TSL\n",
    "\n",
    "# replace NeAlias with link_number\n",
    "RD_rx = RD_rx.rename(columns={'NeAlias': 'Hop_number', 'Site': 'Measuring_site'})\n",
    "RD_tx = RD_tx.rename(columns={'NeAlias': 'Hop_number', 'Site': 'Measuring_site'})\n",
    "\n",
    "# take only 15 minute data\n",
    "RD_rx = RD_rx[RD_rx['Interval'] == 15]\n",
    "RD_tx = RD_tx[RD_tx['Interval'] == 15]\n",
    "\n",
    "# If you want you can select RSL and TSL for a specific link\n",
    "RSL = RD_rx[RD_rx['Link_number'] == '6446']\n",
    "TSL = RD_tx[RD_tx['Link_number'] == '6446']\n",
    "\n",
    "# Take only time and min/max RSL or TSL\n",
    "RSL = RSL[['Time','PowerRLTMmin','PowerRLTMmax']]\n",
    "TSL = TSL[['Time','PowerTLTMmin','PowerTLTMmax']]\n",
    "print('Done')"
   ]
  },
  {
   "cell_type": "code",
   "execution_count": 66,
   "id": "1b7bc9f5",
   "metadata": {},
   "outputs": [
    {
     "data": {
      "text/html": [
       "<div>\n",
       "<style scoped>\n",
       "    .dataframe tbody tr th:only-of-type {\n",
       "        vertical-align: middle;\n",
       "    }\n",
       "\n",
       "    .dataframe tbody tr th {\n",
       "        vertical-align: top;\n",
       "    }\n",
       "\n",
       "    .dataframe thead th {\n",
       "        text-align: right;\n",
       "    }\n",
       "</style>\n",
       "<table border=\"1\" class=\"dataframe\">\n",
       "  <thead>\n",
       "    <tr style=\"text-align: right;\">\n",
       "      <th></th>\n",
       "      <th>Time</th>\n",
       "      <th>Interval</th>\n",
       "      <th>Measuring_site</th>\n",
       "      <th>Link_number</th>\n",
       "      <th>PowerTLTMmin</th>\n",
       "      <th>PowerTLTMmax</th>\n",
       "    </tr>\n",
       "  </thead>\n",
       "  <tbody>\n",
       "  </tbody>\n",
       "</table>\n",
       "</div>"
      ],
      "text/plain": [
       "Empty DataFrame\n",
       "Columns: [Time, Interval, Measuring_site, Link_number, PowerTLTMmin, PowerTLTMmax]\n",
       "Index: []"
      ]
     },
     "execution_count": 66,
     "metadata": {},
     "output_type": "execute_result"
    }
   ],
   "source": [
    "RD_tx"
   ]
  },
  {
   "cell_type": "code",
   "execution_count": null,
   "id": "b3a6868f",
   "metadata": {},
   "outputs": [],
   "source": []
  }
 ],
 "metadata": {
  "kernelspec": {
   "display_name": "process_cml_rawdata_env",
   "language": "python",
   "name": "process_cml_rawdata_env"
  },
  "language_info": {
   "codemirror_mode": {
    "name": "ipython",
    "version": 3
   },
   "file_extension": ".py",
   "mimetype": "text/x-python",
   "name": "python",
   "nbconvert_exporter": "python",
   "pygments_lexer": "ipython3",
   "version": "3.8.15"
  }
 },
 "nbformat": 4,
 "nbformat_minor": 5
}
